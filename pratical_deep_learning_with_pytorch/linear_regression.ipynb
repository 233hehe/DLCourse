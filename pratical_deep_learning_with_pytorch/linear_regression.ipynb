{
 "cells": [
  {
   "cell_type": "code",
   "execution_count": 20,
   "metadata": {},
   "outputs": [
    {
     "data": {
      "text/html": [
       "<style>.container { width:80% !important; }</style>"
      ],
      "text/plain": [
       "<IPython.core.display.HTML object>"
      ]
     },
     "metadata": {},
     "output_type": "display_data"
    }
   ],
   "source": [
    "from IPython.core.display import display, HTML\n",
    "display(HTML(\"<style>.container { width:80% !important; }</style>\"))\n",
    "from IPython.core.interactiveshell import InteractiveShell\n",
    "InteractiveShell.ast_node_interactivity = \"all\"\n",
    "#\n",
    "import numpy as np\n",
    "import matplotlib.pyplot as plt\n",
    "import torch\n",
    "import torch.nn as nn\n",
    "from torch.autograd import Variable"
   ]
  },
  {
   "cell_type": "code",
   "execution_count": 11,
   "metadata": {},
   "outputs": [
    {
     "data": {
      "text/plain": [
       "[<matplotlib.lines.Line2D at 0x7fbcf05e9f60>]"
      ]
     },
     "execution_count": 11,
     "metadata": {},
     "output_type": "execute_result"
    },
    {
     "data": {
      "text/plain": [
       "<matplotlib.collections.PathCollection at 0x7fbcf05f2390>"
      ]
     },
     "execution_count": 11,
     "metadata": {},
     "output_type": "execute_result"
    },
    {
     "data": {
      "image/png": "[encoded data removed]",
      "text/plain": [
       "<Figure size 432x288 with 1 Axes>"
      ]
     },
     "metadata": {
      "needs_background": "light"
     },
     "output_type": "display_data"
    }
   ],
   "source": [
    "np.random.seed(23)\n",
    "n = 50\n",
    "x = np.random.randn(n)\n",
    "y = x * np.random.randn(n) + np.random.normal(size=n)\n",
    "\n",
    "plt.plot(np.unique(x), np.poly1d(np.polyfit(x,y,1))(np.unique(x)))\n",
    "\n",
    "plt.scatter(x,y)\n",
    "plt.show()"
   ]
  },
  {
   "cell_type": "code",
   "execution_count": 46,
   "metadata": {},
   "outputs": [
    {
     "data": {
      "text/plain": [
       "[0, 1, 2, 3, 4, 5, 6, 7, 8, 9, 10]"
      ]
     },
     "execution_count": 46,
     "metadata": {},
     "output_type": "execute_result"
    },
    {
     "data": {
      "text/plain": [
       "(11, 1)"
      ]
     },
     "execution_count": 46,
     "metadata": {},
     "output_type": "execute_result"
    },
    {
     "data": {
      "text/plain": [
       "[1, 3, 5, 7, 9, 11, 13, 15, 17, 19, 21]"
      ]
     },
     "execution_count": 46,
     "metadata": {},
     "output_type": "execute_result"
    },
    {
     "data": {
      "text/plain": [
       "(11, 1)"
      ]
     },
     "execution_count": 46,
     "metadata": {},
     "output_type": "execute_result"
    }
   ],
   "source": [
    "#pytorch implementation\n",
    "x_values = [i for i in range(11)]\n",
    "x_values\n",
    "x_train = np.array(x_values, dtype=np.float32).reshape(-1,1)\n",
    "x_train.shape\n",
    "y_values = [2 * i + 1 for i in x_values]\n",
    "y_values\n",
    "y_train = np.array(y_values, dtype=np.float32).reshape(-1,1)\n",
    "y_train.shape"
   ]
  },
  {
   "cell_type": "code",
   "execution_count": 50,
   "metadata": {},
   "outputs": [],
   "source": [
    "# create class\n",
    "class LinearRegressionModel(nn.Module):\n",
    "    def __init__(self, input_size, out_size):\n",
    "        super(LinearRegressionModel, self).__init__() # \n",
    "        self.linear = nn.Linear(input_dim, output_dim)\n",
    "    \n",
    "    def forward(self, x):\n",
    "        out = self.linear(x)\n",
    "        return out\n",
    "\n",
    "# get model\n",
    "input_dim=1\n",
    "output_dim=1\n",
    "lrmodel = LinearRegressionModel(input_dim, output_dim)\n",
    "\n",
    "# get loss, optimization\n",
    "criterion = nn.MSELoss() #mean squared error\n",
    "learning_rate = 0.01\n",
    "optimizer = torch.optim.SGD(lrmodel.parameters(), lr=learning_rate)"
   ]
  },
  {
   "cell_type": "code",
   "execution_count": 53,
   "metadata": {
    "scrolled": true
   },
   "outputs": [
    {
     "name": "stdout",
     "output_type": "stream",
     "text": [
      "epch 1 loss 221.00831604003906\n",
      "epch 2 loss 18.036264419555664\n",
      "epch 3 loss 1.4803712368011475\n",
      "epch 4 loss 0.12985780835151672\n",
      "epch 5 loss 0.019598836079239845\n",
      "epch 6 loss 0.010504838079214096\n",
      "epch 7 loss 0.009663613513112068\n",
      "epch 8 loss 0.009496654383838177\n",
      "epch 9 loss 0.00938580371439457\n",
      "epch 10 loss 0.009280593134462833\n",
      "epch 11 loss 0.009176901541650295\n",
      "epch 12 loss 0.009074466302990913\n",
      "epch 13 loss 0.008973116986453533\n",
      "epch 14 loss 0.008872917853295803\n",
      "epch 15 loss 0.008773822337388992\n",
      "epch 16 loss 0.008675907738506794\n",
      "epch 17 loss 0.008578985929489136\n",
      "epch 18 loss 0.00848318263888359\n",
      "epch 19 loss 0.008388416841626167\n",
      "epch 20 loss 0.008294761180877686\n",
      "epch 21 loss 0.00820219051092863\n",
      "epch 22 loss 0.008110574446618557\n",
      "epch 23 loss 0.008019977249205112\n",
      "epch 24 loss 0.007930418476462364\n",
      "epch 25 loss 0.00784186739474535\n",
      "epch 26 loss 0.007754313759505749\n",
      "epch 27 loss 0.007667724043130875\n",
      "epch 28 loss 0.007582075893878937\n",
      "epch 29 loss 0.007497414480894804\n",
      "epch 30 loss 0.007413714192807674\n",
      "epch 31 loss 0.007330912631005049\n",
      "epch 32 loss 0.007249066606163979\n",
      "epch 33 loss 0.007168084383010864\n",
      "epch 34 loss 0.007088051177561283\n",
      "epch 35 loss 0.007008885964751244\n",
      "epch 36 loss 0.006930612027645111\n",
      "epch 37 loss 0.006853190250694752\n",
      "epch 38 loss 0.006776705384254456\n",
      "epch 39 loss 0.006701030768454075\n",
      "epch 40 loss 0.006626210641115904\n",
      "epch 41 loss 0.00655222125351429\n",
      "epch 42 loss 0.006479032337665558\n",
      "epch 43 loss 0.006406668573617935\n",
      "epch 44 loss 0.006335127167403698\n",
      "epch 45 loss 0.006264409050345421\n",
      "epch 46 loss 0.006194402929395437\n",
      "epch 47 loss 0.006125291343778372\n",
      "epch 48 loss 0.006056847050786018\n",
      "epch 49 loss 0.005989252123981714\n",
      "epch 50 loss 0.005922374315559864\n",
      "epch 51 loss 0.005856185220181942\n",
      "epch 52 loss 0.005790842697024345\n",
      "epch 53 loss 0.005726172123104334\n",
      "epch 54 loss 0.005662222858518362\n",
      "epch 55 loss 0.0055989609099924564\n",
      "epch 56 loss 0.005536460783332586\n",
      "epch 57 loss 0.0054746363312006\n",
      "epch 58 loss 0.005413489881902933\n",
      "epch 59 loss 0.005353037733584642\n",
      "epch 60 loss 0.005293268244713545\n",
      "epch 61 loss 0.005234157666563988\n",
      "epch 62 loss 0.005175730679184198\n",
      "epch 63 loss 0.005117918364703655\n",
      "epch 64 loss 0.005060782190412283\n",
      "epch 65 loss 0.0050042434595525265\n",
      "epch 66 loss 0.004948365036398172\n",
      "epch 67 loss 0.004893094301223755\n",
      "epch 68 loss 0.004838455934077501\n",
      "epch 69 loss 0.004784424789249897\n",
      "epch 70 loss 0.00473099946975708\n",
      "epch 71 loss 0.0046781818382442\n",
      "epch 72 loss 0.0046259211376309395\n",
      "epch 73 loss 0.004574284423142672\n",
      "epch 74 loss 0.004523200914263725\n",
      "epch 75 loss 0.004472723696380854\n",
      "epch 76 loss 0.004422744736075401\n",
      "epch 77 loss 0.004373368341475725\n",
      "epch 78 loss 0.004324499983340502\n",
      "epch 79 loss 0.004276206251233816\n",
      "epch 80 loss 0.004228490870445967\n",
      "epch 81 loss 0.004181287717074156\n",
      "epch 82 loss 0.004134578630328178\n",
      "epch 83 loss 0.004088403191417456\n",
      "epch 84 loss 0.0040427506901323795\n",
      "epch 85 loss 0.003997591324150562\n",
      "epch 86 loss 0.003952937200665474\n",
      "epch 87 loss 0.003908833023160696\n",
      "epch 88 loss 0.003865179605782032\n",
      "epch 89 loss 0.0038220069836825132\n",
      "epch 90 loss 0.0037793382070958614\n",
      "epch 91 loss 0.0037371162325143814\n",
      "epch 92 loss 0.0036953771486878395\n",
      "epch 93 loss 0.003654143074527383\n",
      "epch 94 loss 0.003613345557823777\n",
      "epch 95 loss 0.003572964807972312\n",
      "epch 96 loss 0.0035330697428435087\n",
      "epch 97 loss 0.0034936305601149797\n",
      "epch 98 loss 0.0034546221140772104\n",
      "epch 99 loss 0.0034160453360527754\n"
     ]
    }
   ],
   "source": [
    "for epoch in range(1,100):\n",
    "    # convert numpy array to Variable\n",
    "    inputs= Variable(torch.from_numpy(x_train))\n",
    "    labels= Variable(torch.from_numpy(y_train))\n",
    "    \n",
    "    # clear gradients w.r.t. parameters\n",
    "    optimizer.zero_grad()\n",
    "    \n",
    "    # Forward to get output\n",
    "    outpus = lrmodel(inputs)\n",
    "    \n",
    "    # calculate loss\n",
    "    loss = criterion(outpus, labels)\n",
    "    \n",
    "    # Getting gradient w.r.t parameters\n",
    "    loss.backward()\n",
    "    \n",
    "    #updating parameters\n",
    "    optimizer.step()\n",
    "    print(f\"epch {epoch} loss {loss.data}\")"
   ]
  },
  {
   "cell_type": "code",
   "execution_count": 55,
   "metadata": {},
   "outputs": [
    {
     "data": {
      "text/plain": [
       "array([[ 1.108723],\n",
       "       [ 3.093066],\n",
       "       [ 5.077409],\n",
       "       [ 7.061752],\n",
       "       [ 9.046095],\n",
       "       [11.030437],\n",
       "       [13.01478 ],\n",
       "       [14.999124],\n",
       "       [16.983467],\n",
       "       [18.96781 ],\n",
       "       [20.952152]], dtype=float32)"
      ]
     },
     "execution_count": 55,
     "metadata": {},
     "output_type": "execute_result"
    }
   ],
   "source": [
    "# purely inference\n",
    "predicted = lrmodel(Variable(torch.from_numpy(x_train))).data.numpy()\n",
    "predicted"
   ]
  },
  {
   "cell_type": "code",
   "execution_count": 65,
   "metadata": {},
   "outputs": [],
   "source": [
    "save_model = False\n",
    "if save_model:\n",
    "    torch.save(lrmodel.state_dict(), \"lr_model.pkl\")\n",
    "load_model = False\n",
    "if load_model:\n",
    "    lrmodel.load_state_dict(torch.load(\"lr_model.pkl\"))"
   ]
  }
 ],
 "metadata": {
  "kernelspec": {
   "display_name": "dl",
   "language": "python",
   "name": "dl"
  },
  "language_info": {
   "codemirror_mode": {
    "name": "ipython",
    "version": 3
   },
   "file_extension": ".py",
   "mimetype": "text/x-python",
   "name": "python",
   "nbconvert_exporter": "python",
   "pygments_lexer": "ipython3",
   "version": "3.6.7"
  }
 },
 "nbformat": 4,
 "nbformat_minor": 2
}
