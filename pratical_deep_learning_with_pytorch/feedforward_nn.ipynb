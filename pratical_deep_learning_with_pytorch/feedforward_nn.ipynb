{
 "cells": [
  {
   "cell_type": "code",
   "execution_count": 1,
   "metadata": {
    "ExecuteTime": {
     "end_time": "2019-03-17T03:15:12.750666Z",
     "start_time": "2019-03-17T03:15:12.163108Z"
    }
   },
   "outputs": [],
   "source": [
    "import torch\n",
    "import torch.nn as nn"
   ]
  },
  {
   "cell_type": "code",
   "execution_count": 22,
   "metadata": {
    "ExecuteTime": {
     "end_time": "2019-03-17T03:31:28.390345Z",
     "start_time": "2019-03-17T03:31:28.369853Z"
    }
   },
   "outputs": [
    {
     "name": "stdout",
     "output_type": "stream",
     "text": [
      "LogisticRegressionModel(\n",
      "  (linear): Linear(in_features=784, out_features=10, bias=True)\n",
      ")\n"
     ]
    }
   ],
   "source": [
    "class LogisticRegressionModel(nn.Module):\n",
    "    def __init__(self, input_size, num_classes):\n",
    "        super(LogisticRegressionModel, self).__init__()\n",
    "        self.linear = nn.Linear(input_dim, output_dim)\n",
    "    \n",
    "    def forward(self, x):\n",
    "        out = self.linear(x)\n",
    "        return out\n",
    "    \n",
    "input_dim = 28*28\n",
    "output_dim = 10\n",
    "\n",
    "model = LogisticRegressionModel(input_dim, output_dim)\n",
    "print(model)"
   ]
  },
  {
   "cell_type": "markdown",
   "metadata": {},
   "source": [
    "Steps:\n",
    "1. load dataset\n",
    "2. make dataset iterable\n",
    "3. create model class\n",
    "4. init model class\n",
    "5. init loss class\n",
    "6. init optimizer class\n",
    "7. batch train"
   ]
  },
  {
   "cell_type": "markdown",
   "metadata": {},
   "source": [
    "# sigmoid"
   ]
  },
  {
   "cell_type": "code",
   "execution_count": 12,
   "metadata": {
    "ExecuteTime": {
     "end_time": "2019-03-17T03:22:37.035172Z",
     "start_time": "2019-03-17T03:22:37.019957Z"
    }
   },
   "outputs": [],
   "source": [
    "import torch\n",
    "import torch.nn as nn\n",
    "import torchvision.transforms as transforms\n",
    "import torchvision.datasets as dsets\n",
    "from torch.autograd import Variable"
   ]
  },
  {
   "cell_type": "code",
   "execution_count": 13,
   "metadata": {
    "ExecuteTime": {
     "end_time": "2019-03-17T03:24:13.971178Z",
     "start_time": "2019-03-17T03:24:13.661405Z"
    }
   },
   "outputs": [],
   "source": [
    "# 1. load dataset\n",
    "train_dataset = dsets.MNIST(root='./data',\n",
    "                           train=True,\n",
    "                           transform=transforms.ToTensor())\n",
    "test_dataset = dsets.MNIST(root='./data',\n",
    "                           train=False,\n",
    "                           transform=transforms.ToTensor())\n",
    "# 2. iterate dataset\n",
    "batch_size = 100\n",
    "n_iters = 3000\n",
    "num_epochs = n_iters / (len(train_dataset) / batch_size)\n",
    "num_epochs = int(num_epochs)\n",
    "\n",
    "train_loader = torch.utils.data.DataLoader(dataset=train_dataset,\n",
    "                                          batch_size=batch_size,\n",
    "                                          shuffle=True)\n",
    "test_loader = torch.utils.data.DataLoader(dataset=test_dataset,\n",
    "                                          batch_size=batch_size,\n",
    "                                          shuffle=False)\n",
    "# 3. create model class\n",
    "class FeedforwardNeuralNetModel(nn.Module):\n",
    "    def __init__(self, input_size, hidden_size, num_classes):\n",
    "        super(FeedforwardNeuralNetModel, self).__init__()\n",
    "        #linear\n",
    "        self.fc1 = nn.Linear(input_dim, hidden_dim)\n",
    "        # Sigmod\n",
    "        self.sigmod = nn.Sigmoid()\n",
    "        # linear function\n",
    "        self.fc2 = nn.Linear(hidden_dim, output_dim)\n",
    "    \n",
    "    def forward(self, x):\n",
    "        out = self.fc1(x)\n",
    "        out = self.sigmod(out)\n",
    "        out = self.fc2(out)\n",
    "        return out\n",
    "\n",
    "# 4. init model class\n",
    "input_dim = 28*28\n",
    "hidden_dim = 100\n",
    "output_dim = 10\n",
    "\n",
    "model = FeedforwardNeuralNetModel(input_dim, hidden_dim, output_dim)\n",
    "\n",
    "# 5. init loss class\n",
    "criterion = nn.CrossEntropyLoss()\n",
    "\n",
    "# 6. init optimizer\n",
    "lr = 0.1\n",
    "optimizer = torch.optim.SGD(model.parameters(), lr = lr)\n",
    "\n",
    "print(model. parameters())\n",
    "print(len(list(model.parameters())))\n",
    "print(list(model.parameters())[0])"
   ]
  },
  {
   "cell_type": "code",
   "execution_count": 42,
   "metadata": {
    "ExecuteTime": {
     "end_time": "2019-03-17T03:42:09.683381Z",
     "start_time": "2019-03-17T03:41:11.128575Z"
    }
   },
   "outputs": [
    {
     "name": "stdout",
     "output_type": "stream",
     "text": [
      "iteration 500,loss 0.3063198924064636, accuracy 9\n",
      "iteration 1000,loss 0.20125824213027954, accuracy 9\n",
      "iteration 1500,loss 0.2849976718425751, accuracy 9\n",
      "iteration 2000,loss 0.24310968816280365, accuracy 9\n",
      "iteration 2500,loss 0.4287777245044708, accuracy 10\n",
      "iteration 3000,loss 0.2808297276496887, accuracy 10\n"
     ]
    }
   ],
   "source": [
    "iter = 0 \n",
    "for epoch in range(num_epochs):\n",
    "    for i, (images, labels) in enumerate(train_loader):\n",
    "        # load images \n",
    "        images = Variable(images.view(-1, input_dim))\n",
    "        labels = Variable(labels)\n",
    "        # forward and backward\n",
    "        optimizer.zero_grad()\n",
    "        outputs= model(images)\n",
    "        loss = criterion(outputs, labels)\n",
    "        loss.backward()\n",
    "        # updateing parameters\n",
    "        optimizer.step()\n",
    "        \n",
    "        iter += 1\n",
    "        \n",
    "        if iter % 500 == 0:\n",
    "            # accuracy\n",
    "            correct = 0\n",
    "            total = 0\n",
    "            for images, labels in test_loader:\n",
    "                images = Variable(images.view(-1, input_dim))\n",
    "                outpus = model(images)\n",
    "                _, predicted  = torch.max(outputs.data, 1)\n",
    "                \n",
    "                total += labels.size(0)\n",
    "                correct += (predicted == labels).sum()\n",
    "            \n",
    "            accuracy = 100 * correct / total\n",
    "            \n",
    "            print(f\"iteration {iter},loss {loss.data}, accuracy {accuracy}\")"
   ]
  },
  {
   "cell_type": "markdown",
   "metadata": {},
   "source": [
    "# tanh"
   ]
  },
  {
   "cell_type": "code",
   "execution_count": 43,
   "metadata": {
    "ExecuteTime": {
     "end_time": "2019-03-17T03:45:37.329028Z",
     "start_time": "2019-03-17T03:45:37.066445Z"
    }
   },
   "outputs": [
    {
     "name": "stdout",
     "output_type": "stream",
     "text": [
      "<generator object Module.parameters at 0x7fb07edcbaf0>\n",
      "4\n",
      "Parameter containing:\n",
      "tensor([[ 2.3927e-02, -2.6822e-02, -2.6959e-02,  ...,  2.0095e-02,\n",
      "         -3.4580e-02, -5.8926e-03],\n",
      "        [-1.5604e-02, -7.2308e-03,  1.3240e-03,  ..., -2.7321e-02,\n",
      "         -2.3130e-02,  1.1012e-02],\n",
      "        [ 8.5029e-03,  8.0736e-04,  2.9071e-02,  ...,  1.8839e-02,\n",
      "          1.4315e-02,  4.7524e-05],\n",
      "        ...,\n",
      "        [ 7.1516e-03, -3.0819e-02,  3.0049e-02,  ...,  1.9857e-04,\n",
      "          3.2755e-02,  1.2014e-02],\n",
      "        [ 2.3730e-02, -2.7913e-02, -2.9241e-02,  ..., -2.0317e-02,\n",
      "         -1.0257e-02,  2.3045e-02],\n",
      "        [-1.4451e-02, -4.4101e-04,  2.6141e-02,  ..., -7.9876e-03,\n",
      "          3.4742e-02,  9.8308e-03]], requires_grad=True)\n"
     ]
    }
   ],
   "source": [
    "# 1. load dataset\n",
    "train_dataset = dsets.MNIST(root='./data',\n",
    "                           train=True,\n",
    "                           transform=transforms.ToTensor())\n",
    "test_dataset = dsets.MNIST(root='./data',\n",
    "                           train=False,\n",
    "                           transform=transforms.ToTensor())\n",
    "# 2. iterate dataset\n",
    "batch_size = 100\n",
    "n_iters = 3000\n",
    "num_epochs = n_iters / (len(train_dataset) / batch_size)\n",
    "num_epochs = int(num_epochs)\n",
    "\n",
    "train_loader = torch.utils.data.DataLoader(dataset=train_dataset,\n",
    "                                          batch_size=batch_size,\n",
    "                                          shuffle=True)\n",
    "test_loader = torch.utils.data.DataLoader(dataset=test_dataset,\n",
    "                                          batch_size=batch_size,\n",
    "                                          shuffle=False)\n",
    "# 3. create model class\n",
    "class FeedforwardNeuralNetModel(nn.Module):\n",
    "    def __init__(self, input_size, hidden_size, num_classes):\n",
    "        super(FeedforwardNeuralNetModel, self).__init__()\n",
    "        #linear\n",
    "        self.fc1 = nn.Linear(input_dim, hidden_dim)\n",
    "        # Sigmod\n",
    "        self.tanh = nn.Tanh()\n",
    "        # linear function\n",
    "        self.fc2 = nn.Linear(hidden_dim, output_dim)\n",
    "    \n",
    "    def forward(self, x):\n",
    "        out = self.fc1(x)\n",
    "        out = self.tanh(out)\n",
    "        out = self.fc2(out)\n",
    "        return out\n",
    "\n",
    "# 4. init model class\n",
    "input_dim = 28*28\n",
    "hidden_dim = 100\n",
    "output_dim = 10\n",
    "\n",
    "model = FeedforwardNeuralNetModel(input_dim, hidden_dim, output_dim)\n",
    "\n",
    "# 5. init loss class\n",
    "criterion = nn.CrossEntropyLoss()\n",
    "\n",
    "# 6. init optimizer\n",
    "lr = 0.1\n",
    "optimizer = torch.optim.SGD(model.parameters(), lr = lr)\n",
    "\n",
    "print(model. parameters())\n",
    "print(len(list(model.parameters())))\n",
    "print(list(model.parameters())[0])"
   ]
  },
  {
   "cell_type": "code",
   "execution_count": 44,
   "metadata": {
    "ExecuteTime": {
     "end_time": "2019-03-17T03:46:40.742447Z",
     "start_time": "2019-03-17T03:45:42.717744Z"
    }
   },
   "outputs": [
    {
     "name": "stdout",
     "output_type": "stream",
     "text": [
      "iteration 500,loss 0.33536475896835327, accuracy 9\n",
      "iteration 1000,loss 0.21654707193374634, accuracy 9\n",
      "iteration 1500,loss 0.2467239797115326, accuracy 10\n",
      "iteration 2000,loss 0.2003527134656906, accuracy 9\n",
      "iteration 2500,loss 0.13130022585391998, accuracy 9\n",
      "iteration 3000,loss 0.20998278260231018, accuracy 10\n"
     ]
    }
   ],
   "source": [
    "iter = 0 \n",
    "for epoch in range(num_epochs):\n",
    "    for i, (images, labels) in enumerate(train_loader):\n",
    "        # load images \n",
    "        images = Variable(images.view(-1, input_dim))\n",
    "        labels = Variable(labels)\n",
    "        # forward and backward\n",
    "        optimizer.zero_grad()\n",
    "        outputs= model(images)\n",
    "        loss = criterion(outputs, labels)\n",
    "        loss.backward()\n",
    "        # updateing parameters\n",
    "        optimizer.step()\n",
    "        \n",
    "        iter += 1\n",
    "        \n",
    "        if iter % 500 == 0:\n",
    "            # accuracy\n",
    "            correct = 0\n",
    "            total = 0\n",
    "            for images, labels in test_loader:\n",
    "                images = Variable(images.view(-1, input_dim))\n",
    "                outpus = model(images)\n",
    "                _, predicted  = torch.max(outputs.data, 1)\n",
    "                \n",
    "                total += labels.size(0)\n",
    "                correct += (predicted == labels).sum()\n",
    "            \n",
    "            accuracy = 100 * correct / total\n",
    "            \n",
    "            print(f\"iteration {iter},loss {loss.data}, accuracy {accuracy}\")"
   ]
  },
  {
   "cell_type": "markdown",
   "metadata": {},
   "source": [
    "# Relu"
   ]
  },
  {
   "cell_type": "code",
   "execution_count": 46,
   "metadata": {
    "ExecuteTime": {
     "end_time": "2019-03-17T03:49:00.161414Z",
     "start_time": "2019-03-17T03:48:59.828379Z"
    }
   },
   "outputs": [
    {
     "name": "stdout",
     "output_type": "stream",
     "text": [
      "<generator object Module.parameters at 0x7fb07e79f728>\n",
      "6\n",
      "Parameter containing:\n",
      "tensor([[ 0.0143,  0.0225, -0.0077,  ...,  0.0045, -0.0109, -0.0029],\n",
      "        [-0.0348, -0.0104,  0.0004,  ...,  0.0240, -0.0132, -0.0337],\n",
      "        [ 0.0293, -0.0172,  0.0280,  ..., -0.0226, -0.0166,  0.0235],\n",
      "        ...,\n",
      "        [-0.0138, -0.0156,  0.0208,  ...,  0.0337, -0.0231,  0.0063],\n",
      "        [ 0.0307,  0.0032, -0.0159,  ...,  0.0169,  0.0087, -0.0357],\n",
      "        [ 0.0307, -0.0249,  0.0303,  ...,  0.0175,  0.0272,  0.0197]],\n",
      "       requires_grad=True)\n"
     ]
    }
   ],
   "source": [
    "# 1. load dataset\n",
    "train_dataset = dsets.MNIST(root='./data',\n",
    "                           train=True,\n",
    "                           transform=transforms.ToTensor())\n",
    "test_dataset = dsets.MNIST(root='./data',\n",
    "                           train=False,\n",
    "                           transform=transforms.ToTensor())\n",
    "# 2. iterate dataset\n",
    "batch_size = 100\n",
    "n_iters = 3000\n",
    "num_epochs = n_iters / (len(train_dataset) / batch_size)\n",
    "num_epochs = int(num_epochs)\n",
    "\n",
    "train_loader = torch.utils.data.DataLoader(dataset=train_dataset,\n",
    "                                          batch_size=batch_size,\n",
    "                                          shuffle=True)\n",
    "test_loader = torch.utils.data.DataLoader(dataset=test_dataset,\n",
    "                                          batch_size=batch_size,\n",
    "                                          shuffle=False)\n",
    "# 3. create model class\n",
    "class FeedforwardNeuralNetModel(nn.Module):\n",
    "    def __init__(self, input_size, hidden_size1 , hidden_size2, num_classes):\n",
    "        super(FeedforwardNeuralNetModel, self).__init__()\n",
    "        self.fc1 = nn.Linear(input_dim, hidden_dim1)\n",
    "        self.relu = nn.ReLU()\n",
    "        self.fc2 = nn.Linear(hidden_dim1, hidden_dim2)\n",
    "        self.fc3 = nn.Linear(hidden_dim2, output_dim)\n",
    "\n",
    "    \n",
    "    def forward(self, x):\n",
    "        out = self.fc1(x)\n",
    "        out = self.relu(out)\n",
    "        out = self.fc2(out)\n",
    "        out = self.relu(out)\n",
    "        out = self.fc3(out)\n",
    "        return out\n",
    "\n",
    "# 4. init model class\n",
    "input_dim = 28*28\n",
    "hidden_dim1 = 100\n",
    "hidden_dim2 = 20\n",
    "output_dim = 10\n",
    "\n",
    "model = FeedforwardNeuralNetModel(input_dim, hidden_dim1, hidden_dim2, output_dim)\n",
    "\n",
    "# 5. init loss class\n",
    "criterion = nn.CrossEntropyLoss()\n",
    "\n",
    "# 6. init optimizer\n",
    "lr = 0.1\n",
    "optimizer = torch.optim.SGD(model.parameters(), lr = lr)\n",
    "\n",
    "print(model. parameters())\n",
    "print(len(list(model.parameters())))\n",
    "print(list(model.parameters())[0])"
   ]
  },
  {
   "cell_type": "code",
   "execution_count": 47,
   "metadata": {
    "ExecuteTime": {
     "end_time": "2019-03-17T03:50:16.748176Z",
     "start_time": "2019-03-17T03:49:12.887878Z"
    }
   },
   "outputs": [
    {
     "name": "stdout",
     "output_type": "stream",
     "text": [
      "iteration 500,loss 0.3750884234905243, accuracy 10\n",
      "iteration 1000,loss 0.26217544078826904, accuracy 10\n",
      "iteration 1500,loss 0.1398123800754547, accuracy 10\n",
      "iteration 2000,loss 0.08149667084217072, accuracy 9\n",
      "iteration 2500,loss 0.06738394498825073, accuracy 10\n",
      "iteration 3000,loss 0.03815045207738876, accuracy 9\n"
     ]
    }
   ],
   "source": [
    "iter = 0 \n",
    "for epoch in range(num_epochs):\n",
    "    for i, (images, labels) in enumerate(train_loader):\n",
    "        # load images \n",
    "        images = Variable(images.view(-1, input_dim))\n",
    "        labels = Variable(labels)\n",
    "        # forward and backward\n",
    "        optimizer.zero_grad()\n",
    "        outputs= model(images)\n",
    "        loss = criterion(outputs, labels)\n",
    "        loss.backward()\n",
    "        # updateing parameters\n",
    "        optimizer.step()\n",
    "        \n",
    "        iter += 1\n",
    "        \n",
    "        if iter % 500 == 0:\n",
    "            # accuracy\n",
    "            correct = 0\n",
    "            total = 0\n",
    "            for images, labels in test_loader:\n",
    "                images = Variable(images.view(-1, input_dim))\n",
    "                outpus = model(images)\n",
    "                _, predicted  = torch.max(outputs.data, 1)\n",
    "                \n",
    "                total += labels.size(0)\n",
    "                correct += (predicted == labels).sum()\n",
    "            \n",
    "            accuracy = 100 * correct / total\n",
    "            \n",
    "            print(f\"iteration {iter},loss {loss.data}, accuracy {accuracy}\")"
   ]
  }
 ],
 "metadata": {
  "kernelspec": {
   "display_name": "dl",
   "language": "python",
   "name": "dl"
  },
  "language_info": {
   "codemirror_mode": {
    "name": "ipython",
    "version": 3
   },
   "file_extension": ".py",
   "mimetype": "text/x-python",
   "name": "python",
   "nbconvert_exporter": "python",
   "pygments_lexer": "ipython3",
   "version": "3.6.7"
  }
 },
 "nbformat": 4,
 "nbformat_minor": 2
}
